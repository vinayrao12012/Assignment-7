{
 "cells": [
  {
   "cell_type": "markdown",
   "id": "42bcbcf8-5157-4257-a9e7-7a822b9ed879",
   "metadata": {},
   "source": [
    "## Q1"
   ]
  },
  {
   "cell_type": "markdown",
   "id": "17f363a9-92ea-4ac4-a4d6-5bf56b9d7bba",
   "metadata": {},
   "source": [
    "Exception : An Exception is a python object that represents an error.When a Python script raises an exception, it must either handle the exception immediately or it terminates and quits."
   ]
  },
  {
   "cell_type": "code",
   "execution_count": 1,
   "id": "8b921b0e-e19b-4da5-bca6-b136cb4a2ab5",
   "metadata": {},
   "outputs": [
    {
     "name": "stdout",
     "output_type": "stream",
     "text": [
      "division by zero\n"
     ]
    }
   ],
   "source": [
    "try:\n",
    "    a = 56\n",
    "    print(a/0)\n",
    "except ZeroDivisionError as e:\n",
    "    print(e)"
   ]
  },
  {
   "cell_type": "markdown",
   "id": "ded3e5af-611b-4262-9dde-c3138187f7dc",
   "metadata": {},
   "source": [
    "1. Syntax Error : When the proper syntax of the language is not followed then syntax error occurs."
   ]
  },
  {
   "cell_type": "code",
   "execution_count": 2,
   "id": "2c0fb7d2-58e9-4a52-abee-fd9d3d906a96",
   "metadata": {},
   "outputs": [
    {
     "ename": "SyntaxError",
     "evalue": "expected ':' (2493942293.py, line 1)",
     "output_type": "error",
     "traceback": [
      "\u001b[0;36m  Cell \u001b[0;32mIn[2], line 1\u001b[0;36m\u001b[0m\n\u001b[0;31m    for i in [1,2,3,4]\u001b[0m\n\u001b[0m                      ^\u001b[0m\n\u001b[0;31mSyntaxError\u001b[0m\u001b[0;31m:\u001b[0m expected ':'\n"
     ]
    }
   ],
   "source": [
    "for i in [1,2,3,4]\n",
    "print(i)"
   ]
  },
  {
   "cell_type": "markdown",
   "id": "019e158d-c42b-4e3a-9c7a-4c8f87f75329",
   "metadata": {},
   "source": [
    "2. Exceptions : It is just a logical error .When in the runtime an error that occurs after passing the syntax test is called exception"
   ]
  },
  {
   "cell_type": "code",
   "execution_count": 4,
   "id": "817acf37-222a-4f3e-aadf-612bcdad2ba3",
   "metadata": {},
   "outputs": [
    {
     "ename": "TypeError",
     "evalue": "unsupported operand type(s) for +: 'int' and 'str'",
     "output_type": "error",
     "traceback": [
      "\u001b[0;31m---------------------------------------------------------------------------\u001b[0m",
      "\u001b[0;31mTypeError\u001b[0m                                 Traceback (most recent call last)",
      "Cell \u001b[0;32mIn[4], line 1\u001b[0m\n\u001b[0;32m----> 1\u001b[0m \u001b[38;5;241;43m2\u001b[39;49m\u001b[38;5;241;43m+\u001b[39;49m\u001b[38;5;124;43m\"\u001b[39;49m\u001b[38;5;124;43mVinay\u001b[39;49m\u001b[38;5;124;43m\"\u001b[39;49m\n",
      "\u001b[0;31mTypeError\u001b[0m: unsupported operand type(s) for +: 'int' and 'str'"
     ]
    }
   ],
   "source": [
    "2+\"Vinay\""
   ]
  },
  {
   "cell_type": "markdown",
   "id": "d2c59b99-9f92-4bf1-a8db-173658c73731",
   "metadata": {},
   "source": [
    "## Q2"
   ]
  },
  {
   "cell_type": "markdown",
   "id": "70c6f75c-fcf3-4528-adb5-0b16603a03dc",
   "metadata": {},
   "source": [
    "If an exception is not caught , the runtime system will abort the program (i.e. crash) and an exception message will print to the console. The message typically includes: name of exception type"
   ]
  },
  {
   "cell_type": "code",
   "execution_count": 5,
   "id": "8901d961-af92-4b33-aa9e-71cd1d667c8d",
   "metadata": {},
   "outputs": [
    {
     "ename": "NameError",
     "evalue": "name 'name' is not defined",
     "output_type": "error",
     "traceback": [
      "\u001b[0;31m---------------------------------------------------------------------------\u001b[0m",
      "\u001b[0;31mNameError\u001b[0m                                 Traceback (most recent call last)",
      "Cell \u001b[0;32mIn[5], line 1\u001b[0m\n\u001b[0;32m----> 1\u001b[0m \u001b[38;5;241m2\u001b[39m \u001b[38;5;241m+\u001b[39m \u001b[43mname\u001b[49m\u001b[38;5;241m*\u001b[39m\u001b[38;5;241m4\u001b[39m\n",
      "\u001b[0;31mNameError\u001b[0m: name 'name' is not defined"
     ]
    }
   ],
   "source": [
    "2 + name*4"
   ]
  },
  {
   "cell_type": "markdown",
   "id": "3b47c884-66ac-45e5-abff-7e02bac7f46c",
   "metadata": {},
   "source": [
    "## Q3"
   ]
  },
  {
   "cell_type": "markdown",
   "id": "ce953b0c-bda1-4db6-88a9-15a1bda8bdd9",
   "metadata": {},
   "source": [
    "try and except python statements are used to catch and handle exceptions."
   ]
  },
  {
   "cell_type": "code",
   "execution_count": 6,
   "id": "5654db2c-ef25-41b2-86ca-137d1035f18c",
   "metadata": {},
   "outputs": [
    {
     "name": "stdout",
     "output_type": "stream",
     "text": [
      "[Errno 2] No such file or directory: 'test1.txt'\n"
     ]
    }
   ],
   "source": [
    "try:\n",
    "    with open(\"test1.txt\",\"r\") as f:\n",
    "        data = f.read()\n",
    "        for i in data:\n",
    "            print(i)\n",
    "            \n",
    "except FileNotFoundError as e:\n",
    "    print(e)"
   ]
  },
  {
   "cell_type": "markdown",
   "id": "f1af27ab-5d0c-4e2b-8123-f5b0317d5f55",
   "metadata": {},
   "source": [
    "## Q4"
   ]
  },
  {
   "cell_type": "markdown",
   "id": "780b3fef-0d70-405d-a851-89997a1893d7",
   "metadata": {},
   "source": [
    "1. Try - else"
   ]
  },
  {
   "cell_type": "code",
   "execution_count": 7,
   "id": "6ff48cb5-2b3a-4b87-a9c0-51442016668a",
   "metadata": {},
   "outputs": [
    {
     "name": "stdout",
     "output_type": "stream",
     "text": [
      "5.0\n"
     ]
    }
   ],
   "source": [
    "try:\n",
    "    a= 10\n",
    "    b = 2\n",
    "    out = a/b\n",
    "    \n",
    "except Exception as e:\n",
    "    print(e)\n",
    "    \n",
    "else:\n",
    "    print(out)"
   ]
  },
  {
   "cell_type": "markdown",
   "id": "fd6daf3e-b8b6-4289-8e95-b2864c9997c2",
   "metadata": {},
   "source": [
    "2. Finally"
   ]
  },
  {
   "cell_type": "code",
   "execution_count": 8,
   "id": "fac84976-9170-4bad-a2c6-04ccce5e246c",
   "metadata": {},
   "outputs": [
    {
     "name": "stdout",
     "output_type": "stream",
     "text": [
      "division by zero\n",
      "It will print finally data regardless of the result of the try- and except blocks\n"
     ]
    }
   ],
   "source": [
    "try:\n",
    "    print(10/0)\n",
    "    \n",
    "except ZeroDivisionError as e:\n",
    "    print(e)\n",
    "    \n",
    "finally:\n",
    "    print(\"It will print finally data regardless of the result of the try- and except blocks\")"
   ]
  },
  {
   "cell_type": "markdown",
   "id": "0feda59c-9720-408f-bd1e-1f519427293b",
   "metadata": {},
   "source": [
    "3. Raise"
   ]
  },
  {
   "cell_type": "code",
   "execution_count": 9,
   "id": "c40c71a3-3764-4f66-b025-e60fda39d17b",
   "metadata": {},
   "outputs": [
    {
     "ename": "TypeError",
     "evalue": "Only integers",
     "output_type": "error",
     "traceback": [
      "\u001b[0;31m---------------------------------------------------------------------------\u001b[0m",
      "\u001b[0;31mTypeError\u001b[0m                                 Traceback (most recent call last)",
      "Cell \u001b[0;32mIn[9], line 4\u001b[0m\n\u001b[1;32m      1\u001b[0m x \u001b[38;5;241m=\u001b[39m \u001b[38;5;124m\"\u001b[39m\u001b[38;5;124mvinay\u001b[39m\u001b[38;5;124m\"\u001b[39m\n\u001b[1;32m      3\u001b[0m \u001b[38;5;28;01mif\u001b[39;00m \u001b[38;5;129;01mnot\u001b[39;00m \u001b[38;5;28mtype\u001b[39m(x) \u001b[38;5;129;01mis\u001b[39;00m \u001b[38;5;28mint\u001b[39m:\n\u001b[0;32m----> 4\u001b[0m     \u001b[38;5;28;01mraise\u001b[39;00m \u001b[38;5;167;01mTypeError\u001b[39;00m(\u001b[38;5;124m\"\u001b[39m\u001b[38;5;124mOnly integers\u001b[39m\u001b[38;5;124m\"\u001b[39m)\n",
      "\u001b[0;31mTypeError\u001b[0m: Only integers"
     ]
    }
   ],
   "source": [
    "x = \"vinay\"\n",
    "\n",
    "if not type(x) is int:\n",
    "    raise TypeError(\"Only integers\")"
   ]
  },
  {
   "cell_type": "markdown",
   "id": "bd8d3dbd-b417-48b1-9609-77f5ea5543be",
   "metadata": {},
   "source": [
    "## Q5"
   ]
  },
  {
   "cell_type": "markdown",
   "id": "f5cc9b1a-cebd-4ca8-b7d5-1832ced682b8",
   "metadata": {},
   "source": [
    "Custom EXception is an exception that is defined by the user.However, sometimes the built-in exceptions may not be enough to handle all the scenarios in a program. In such cases, we can create our own exceptions, which are known as custom exceptions\n",
    "\n",
    "\n",
    "It is used when the built-in exceptions are not sufficient to handle a particular scenario in a program."
   ]
  },
  {
   "cell_type": "code",
   "execution_count": 10,
   "id": "8d9bc71b-eee5-4e7b-8bb1-73d967ab3e92",
   "metadata": {},
   "outputs": [
    {
     "name": "stdout",
     "output_type": "stream",
     "text": [
      "This is my custom Exception message\n"
     ]
    }
   ],
   "source": [
    "class CustomException(Exception):\n",
    "    def __init__(self,message):\n",
    "        super().__init__(message)\n",
    "        \n",
    "try:\n",
    "    raise CustomException(\"This is my custom Exception message\")\n",
    "except CustomException as e:\n",
    "    print(e)"
   ]
  },
  {
   "cell_type": "markdown",
   "id": "79dd784b-99ce-4f84-88c8-e6fb92d08973",
   "metadata": {},
   "source": [
    "## Q6"
   ]
  },
  {
   "cell_type": "code",
   "execution_count": 13,
   "id": "d7a87aa9-7770-4e90-a429-e3e4c2ba5d3c",
   "metadata": {},
   "outputs": [
    {
     "name": "stdin",
     "output_type": "stream",
     "text": [
      "Enter year of birth:  2011\n"
     ]
    },
    {
     "name": "stdout",
     "output_type": "stream",
     "text": [
      "The age is not valid\n"
     ]
    }
   ],
   "source": [
    "class Error(Exception):\n",
    "    pass\n",
    "\n",
    "class dobException(Error):\n",
    "    pass\n",
    "\n",
    "x = int(input(\"Enter year of birth: \"))\n",
    "age = 2023-x\n",
    "\n",
    "try:\n",
    "    if age<=30 and age>=22:\n",
    "        print(\"The age is valid\")\n",
    "    else:\n",
    "        raise dobException\n",
    "        \n",
    "except dobException:\n",
    "    print(\"The age is not valid\")\n",
    "        \n",
    "        "
   ]
  },
  {
   "cell_type": "code",
   "execution_count": null,
   "id": "0a5ff36f-86b3-4778-896a-52a1cdebd772",
   "metadata": {},
   "outputs": [],
   "source": []
  }
 ],
 "metadata": {
  "kernelspec": {
   "display_name": "Python 3 (ipykernel)",
   "language": "python",
   "name": "python3"
  },
  "language_info": {
   "codemirror_mode": {
    "name": "ipython",
    "version": 3
   },
   "file_extension": ".py",
   "mimetype": "text/x-python",
   "name": "python",
   "nbconvert_exporter": "python",
   "pygments_lexer": "ipython3",
   "version": "3.10.8"
  }
 },
 "nbformat": 4,
 "nbformat_minor": 5
}
